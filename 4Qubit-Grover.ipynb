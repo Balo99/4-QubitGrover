{
  "cells": [
    {
      "cell_type": "code",
      "execution_count": null,
      "metadata": {
        "id": "7yxNuk6KbqEc",
        "outputId": "a1358639-b8ef-4be3-c1dd-f77f99179ba8",
        "colab": {
          "base_uri": "https://localhost:8080/"
        }
      },
      "outputs": [
        {
          "output_type": "stream",
          "name": "stdout",
          "text": [
            "\u001b[?25l     \u001b[90m━━━━━━━━━━━━━━━━━━━━━━━━━━━━━━━━━━━━━━━━\u001b[0m \u001b[32m0.0/162.6 kB\u001b[0m \u001b[31m?\u001b[0m eta \u001b[36m-:--:--\u001b[0m\r\u001b[2K     \u001b[91m━━━━━━━\u001b[0m\u001b[91m╸\u001b[0m\u001b[90m━━━━━━━━━━━━━━━━━━━━━━━━━━━━━━━━\u001b[0m \u001b[32m30.7/162.6 kB\u001b[0m \u001b[31m1.2 MB/s\u001b[0m eta \u001b[36m0:00:01\u001b[0m\r\u001b[2K     \u001b[91m━━━━━━━━━━━━━━━━━━━━━━━━━━━\u001b[0m\u001b[90m╺\u001b[0m\u001b[90m━━━━━━━━━━━\u001b[0m \u001b[32m112.6/162.6 kB\u001b[0m \u001b[31m1.8 MB/s\u001b[0m eta \u001b[36m0:00:01\u001b[0m\r\u001b[2K     \u001b[90m━━━━━━━━━━━━━━━━━━━━━━━━━━━━━━━━━━━━━━━\u001b[0m \u001b[32m162.6/162.6 kB\u001b[0m \u001b[31m1.9 MB/s\u001b[0m eta \u001b[36m0:00:00\u001b[0m\n",
            "\u001b[?25h  Preparing metadata (setup.py) ... \u001b[?25l\u001b[?25hdone\n",
            "  Building wheel for pylatexenc (setup.py) ... \u001b[?25l\u001b[?25hdone\n"
          ]
        }
      ],
      "source": [
        "!pip install pylatexenc -q"
      ]
    },
    {
      "cell_type": "code",
      "source": [
        "!pip install qiskit"
      ],
      "metadata": {
        "colab": {
          "base_uri": "https://localhost:8080/"
        },
        "id": "otbjKKqC14oi",
        "outputId": "8432fd23-b4b0-44bd-af2f-6c0ecc95752e"
      },
      "execution_count": null,
      "outputs": [
        {
          "output_type": "stream",
          "name": "stdout",
          "text": [
            "Collecting qiskit\n",
            "  Downloading qiskit-0.43.3.tar.gz (9.1 kB)\n",
            "  Installing build dependencies ... \u001b[?25l\u001b[?25hdone\n",
            "  Getting requirements to build wheel ... \u001b[?25l\u001b[?25hdone\n",
            "  Installing backend dependencies ... \u001b[?25l\u001b[?25hdone\n",
            "  Preparing metadata (pyproject.toml) ... \u001b[?25l\u001b[?25hdone\n",
            "Collecting qiskit-terra==0.24.2 (from qiskit)\n",
            "  Downloading qiskit_terra-0.24.2-cp310-cp310-manylinux_2_17_x86_64.manylinux2014_x86_64.whl (6.0 MB)\n",
            "\u001b[2K     \u001b[90m━━━━━━━━━━━━━━━━━━━━━━━━━━━━━━━━━━━━━━━━\u001b[0m \u001b[32m6.0/6.0 MB\u001b[0m \u001b[31m29.9 MB/s\u001b[0m eta \u001b[36m0:00:00\u001b[0m\n",
            "\u001b[?25hCollecting qiskit-aer==0.12.2 (from qiskit)\n",
            "  Downloading qiskit_aer-0.12.2-cp310-cp310-manylinux_2_17_x86_64.manylinux2014_x86_64.whl (12.8 MB)\n",
            "\u001b[2K     \u001b[90m━━━━━━━━━━━━━━━━━━━━━━━━━━━━━━━━━━━━━━━━\u001b[0m \u001b[32m12.8/12.8 MB\u001b[0m \u001b[31m94.9 MB/s\u001b[0m eta \u001b[36m0:00:00\u001b[0m\n",
            "\u001b[?25hCollecting qiskit-ibmq-provider==0.20.2 (from qiskit)\n",
            "  Downloading qiskit_ibmq_provider-0.20.2-py3-none-any.whl (241 kB)\n",
            "\u001b[2K     \u001b[90m━━━━━━━━━━━━━━━━━━━━━━━━━━━━━━━━━━━━━━\u001b[0m \u001b[32m241.5/241.5 kB\u001b[0m \u001b[31m30.0 MB/s\u001b[0m eta \u001b[36m0:00:00\u001b[0m\n",
            "\u001b[?25hRequirement already satisfied: numpy>=1.16.3 in /usr/local/lib/python3.10/dist-packages (from qiskit-aer==0.12.2->qiskit) (1.22.4)\n",
            "Requirement already satisfied: scipy>=1.0 in /usr/local/lib/python3.10/dist-packages (from qiskit-aer==0.12.2->qiskit) (1.10.1)\n",
            "Requirement already satisfied: requests>=2.19 in /usr/local/lib/python3.10/dist-packages (from qiskit-ibmq-provider==0.20.2->qiskit) (2.27.1)\n",
            "Collecting requests-ntlm<=1.1.0 (from qiskit-ibmq-provider==0.20.2->qiskit)\n",
            "  Downloading requests_ntlm-1.1.0-py2.py3-none-any.whl (5.7 kB)\n",
            "Requirement already satisfied: urllib3>=1.21.1 in /usr/local/lib/python3.10/dist-packages (from qiskit-ibmq-provider==0.20.2->qiskit) (1.26.16)\n",
            "Requirement already satisfied: python-dateutil>=2.8.0 in /usr/local/lib/python3.10/dist-packages (from qiskit-ibmq-provider==0.20.2->qiskit) (2.8.2)\n",
            "Requirement already satisfied: websocket-client>=1.5.1 in /usr/local/lib/python3.10/dist-packages (from qiskit-ibmq-provider==0.20.2->qiskit) (1.6.1)\n",
            "Collecting websockets>=10.0 (from qiskit-ibmq-provider==0.20.2->qiskit)\n",
            "  Downloading websockets-11.0.3-cp310-cp310-manylinux_2_5_x86_64.manylinux1_x86_64.manylinux_2_17_x86_64.manylinux2014_x86_64.whl (129 kB)\n",
            "\u001b[2K     \u001b[90m━━━━━━━━━━━━━━━━━━━━━━━━━━━━━━━━━━━━━━\u001b[0m \u001b[32m129.9/129.9 kB\u001b[0m \u001b[31m16.9 MB/s\u001b[0m eta \u001b[36m0:00:00\u001b[0m\n",
            "\u001b[?25hCollecting rustworkx>=0.12.0 (from qiskit-terra==0.24.2->qiskit)\n",
            "  Downloading rustworkx-0.13.0-cp310-cp310-manylinux_2_17_x86_64.manylinux2014_x86_64.whl (1.9 MB)\n",
            "\u001b[2K     \u001b[90m━━━━━━━━━━━━━━━━━━━━━━━━━━━━━━━━━━━━━━━━\u001b[0m \u001b[32m1.9/1.9 MB\u001b[0m \u001b[31m82.8 MB/s\u001b[0m eta \u001b[36m0:00:00\u001b[0m\n",
            "\u001b[?25hCollecting ply>=3.10 (from qiskit-terra==0.24.2->qiskit)\n",
            "  Downloading ply-3.11-py2.py3-none-any.whl (49 kB)\n",
            "\u001b[2K     \u001b[90m━━━━━━━━━━━━━━━━━━━━━━━━━━━━━━━━━━━━━━━━\u001b[0m \u001b[32m49.6/49.6 kB\u001b[0m \u001b[31m6.9 MB/s\u001b[0m eta \u001b[36m0:00:00\u001b[0m\n",
            "\u001b[?25hRequirement already satisfied: psutil>=5 in /usr/local/lib/python3.10/dist-packages (from qiskit-terra==0.24.2->qiskit) (5.9.5)\n",
            "Requirement already satisfied: sympy>=1.3 in /usr/local/lib/python3.10/dist-packages (from qiskit-terra==0.24.2->qiskit) (1.11.1)\n",
            "Collecting dill>=0.3 (from qiskit-terra==0.24.2->qiskit)\n",
            "  Downloading dill-0.3.7-py3-none-any.whl (115 kB)\n",
            "\u001b[2K     \u001b[90m━━━━━━━━━━━━━━━━━━━━━━━━━━━━━━━━━━━━━━\u001b[0m \u001b[32m115.3/115.3 kB\u001b[0m \u001b[31m16.0 MB/s\u001b[0m eta \u001b[36m0:00:00\u001b[0m\n",
            "\u001b[?25hCollecting stevedore>=3.0.0 (from qiskit-terra==0.24.2->qiskit)\n",
            "  Downloading stevedore-5.1.0-py3-none-any.whl (49 kB)\n",
            "\u001b[2K     \u001b[90m━━━━━━━━━━━━━━━━━━━━━━━━━━━━━━━━━━━━━━━━\u001b[0m \u001b[32m49.6/49.6 kB\u001b[0m \u001b[31m6.4 MB/s\u001b[0m eta \u001b[36m0:00:00\u001b[0m\n",
            "\u001b[?25hCollecting symengine<0.10,>=0.9 (from qiskit-terra==0.24.2->qiskit)\n",
            "  Downloading symengine-0.9.2-cp310-cp310-manylinux2010_x86_64.whl (37.5 MB)\n",
            "\u001b[2K     \u001b[90m━━━━━━━━━━━━━━━━━━━━━━━━━━━━━━━━━━━━━━━━\u001b[0m \u001b[32m37.5/37.5 MB\u001b[0m \u001b[31m18.5 MB/s\u001b[0m eta \u001b[36m0:00:00\u001b[0m\n",
            "\u001b[?25hRequirement already satisfied: six>=1.5 in /usr/local/lib/python3.10/dist-packages (from python-dateutil>=2.8.0->qiskit-ibmq-provider==0.20.2->qiskit) (1.16.0)\n",
            "Requirement already satisfied: certifi>=2017.4.17 in /usr/local/lib/python3.10/dist-packages (from requests>=2.19->qiskit-ibmq-provider==0.20.2->qiskit) (2023.5.7)\n",
            "Requirement already satisfied: charset-normalizer~=2.0.0 in /usr/local/lib/python3.10/dist-packages (from requests>=2.19->qiskit-ibmq-provider==0.20.2->qiskit) (2.0.12)\n",
            "Requirement already satisfied: idna<4,>=2.5 in /usr/local/lib/python3.10/dist-packages (from requests>=2.19->qiskit-ibmq-provider==0.20.2->qiskit) (3.4)\n",
            "Collecting ntlm-auth>=1.0.2 (from requests-ntlm<=1.1.0->qiskit-ibmq-provider==0.20.2->qiskit)\n",
            "  Downloading ntlm_auth-1.5.0-py2.py3-none-any.whl (29 kB)\n",
            "Requirement already satisfied: cryptography>=1.3 in /usr/lib/python3/dist-packages (from requests-ntlm<=1.1.0->qiskit-ibmq-provider==0.20.2->qiskit) (3.4.8)\n",
            "Collecting pbr!=2.1.0,>=2.0.0 (from stevedore>=3.0.0->qiskit-terra==0.24.2->qiskit)\n",
            "  Downloading pbr-5.11.1-py2.py3-none-any.whl (112 kB)\n",
            "\u001b[2K     \u001b[90m━━━━━━━━━━━━━━━━━━━━━━━━━━━━━━━━━━━━━━\u001b[0m \u001b[32m112.7/112.7 kB\u001b[0m \u001b[31m12.8 MB/s\u001b[0m eta \u001b[36m0:00:00\u001b[0m\n",
            "\u001b[?25hRequirement already satisfied: mpmath>=0.19 in /usr/local/lib/python3.10/dist-packages (from sympy>=1.3->qiskit-terra==0.24.2->qiskit) (1.3.0)\n",
            "Building wheels for collected packages: qiskit\n",
            "  Building wheel for qiskit (pyproject.toml) ... \u001b[?25l\u001b[?25hdone\n",
            "  Created wheel for qiskit: filename=qiskit-0.43.3-py3-none-any.whl size=7638 sha256=cc6c61045b1a730243a1c269820ad383c104c20e4effb62cc645a42b86705f3f\n",
            "  Stored in directory: /root/.cache/pip/wheels/c3/88/e5/483e1c761b53470dad74ee047f8ad4d67d4f52ec9dc9d13563\n",
            "Successfully built qiskit\n",
            "Installing collected packages: ply, websockets, symengine, rustworkx, pbr, ntlm-auth, dill, stevedore, requests-ntlm, qiskit-terra, qiskit-ibmq-provider, qiskit-aer, qiskit\n",
            "Successfully installed dill-0.3.7 ntlm-auth-1.5.0 pbr-5.11.1 ply-3.11 qiskit-0.43.3 qiskit-aer-0.12.2 qiskit-ibmq-provider-0.20.2 qiskit-terra-0.24.2 requests-ntlm-1.1.0 rustworkx-0.13.0 stevedore-5.1.0 symengine-0.9.2 websockets-11.0.3\n"
          ]
        }
      ]
    },
    {
      "cell_type": "code",
      "execution_count": null,
      "metadata": {
        "id": "Rzr0oAxPbdHO"
      },
      "outputs": [],
      "source": [
        "import numpy as np\n",
        "import os\n",
        "\n",
        "from qiskit.tools.visualization import plot_histogram\n",
        "from qiskit import execute, QuantumCircuit, QuantumRegister, ClassicalRegister\n",
        "from qiskit import BasicAer\n",
        "from IPython.display import display, Math\n",
        "import pylatexenc\n",
        "from qiskit.circuit.library import MCMT"
      ]
    },
    {
      "cell_type": "markdown",
      "metadata": {
        "id": "fXDZ3DOxkjIH"
      },
      "source": [
        "Implementing a Black Box function that returns -1 to the state 111, if for example we are interested in finding the state 011 we can add the following string of code qc.cz(q[1], q[0]) that performs a phase flip such that the index of the state vector of 011 is -1.\\\n",
        "Depending on the state we are interested to find the idea is to perform a phase flip to invert the index of the state vector using a control Z gate"
      ]
    },
    {
      "cell_type": "code",
      "execution_count": null,
      "metadata": {
        "colab": {
          "base_uri": "https://localhost:8080/",
          "height": 255
        },
        "id": "f_bB2FFecQco",
        "outputId": "090fa8c7-4861-4962-bc74-9b899c081d30"
      },
      "outputs": [
        {
          "output_type": "display_data",
          "data": {
            "text/plain": [
              "<Figure size 509.814x284.278 with 1 Axes>"
            ],
            "image/png": "[encoded data removed]"
          },
          "metadata": {}
        }
      ],
      "source": [
        "n=3\n",
        "N=2**n\n",
        "q = QuantumRegister(n)\n",
        "qc = QuantumCircuit(q)\n",
        "\n",
        "if n==1:\n",
        "    def black_box(qc, q):\n",
        "        qc.z(q)\n",
        "elif n==2:\n",
        "    def black_box(qc, q):\n",
        "        for i in range(n):\n",
        "            qc.s(q[i])\n",
        "        qc.h(q[1])\n",
        "        qc.cx(q[0], q[1])\n",
        "        qc.h(q[1])\n",
        "        for i in range(n):\n",
        "            qc.s(q[i])\n",
        "\n",
        "elif n == 3:\n",
        "    def black_box(qc, q):\n",
        "        qc.h(q[2])\n",
        "        qc.mcx([q[j] for j in range(n-1)], q[n-1])\n",
        "        qc.h(q[2])\n",
        "        qc.cz(q[0],q[1])\n",
        "        qc.cz(q[0], q[2])\n",
        "#        qc.cz(q[1], q[2])\n",
        "\n",
        "\n",
        "else:\n",
        "    def black_box(qc, q):\n",
        "        qc.h(q[3])\n",
        "        qc.mcx([q[j] for j in range(n-1)], q[n-1])\n",
        "        qc.h(q[3])\n",
        "        qc.ccz(q[2], q[1], q[0])\n",
        "\n",
        "black_box(qc,q)\n",
        "cplot=qc.draw(output = \"mpl\")\n",
        "display(cplot)"
      ]
    },
    {
      "cell_type": "markdown",
      "metadata": {
        "id": "sRDBSo0_jpUF"
      },
      "source": [
        "The idea is to build a function that acts as -1 on a single basis state, and +1 on all other status."
      ]
    },
    {
      "cell_type": "markdown",
      "metadata": {
        "id": "ysnkeihmjtZH"
      },
      "source": [
        "We now need to test the built circuit to see if it works"
      ]
    },
    {
      "cell_type": "code",
      "execution_count": null,
      "metadata": {
        "id": "coIi5PtqldpE"
      },
      "outputs": [],
      "source": [
        "#This function is just for visualization purposes and has been taken from the Quantum Ispire tutorial webpage\n",
        "def format_vector(state_vector, decimal_precision=7):\n",
        "    \"\"\" Format the state vector into a LaTeX formatted string.\n",
        "\n",
        "    Args:\n",
        "        state_vector (list or array): The state vector with complex\n",
        "                                      values e.g. [-1, 2j+1].\n",
        "\n",
        "    Returns:\n",
        "        str: The LaTeX format.\n",
        "    \"\"\"\n",
        "    result = []\n",
        "    epsilon = 1/pow(10, decimal_precision)\n",
        "    bit_length = (len(state_vector) - 1).bit_length()\n",
        "    for index, complex_value in enumerate(state_vector):\n",
        "        has_imag_part = np.round(complex_value.imag, decimal_precision) != 0.0\n",
        "        value = complex_value if has_imag_part else complex_value.real\n",
        "        value_round = np.round(value, decimal_precision)\n",
        "        if np.abs(value_round) < epsilon:\n",
        "            continue\n",
        "\n",
        "        binary_state = '{0:0{1}b}'.format(index, bit_length)\n",
        "        result.append(r'{0:+2g}\\left\\lvert {1}\\right\\rangle '.format(value_round, binary_state))\n",
        "    return ''.join(result)"
      ]
    },
    {
      "cell_type": "code",
      "execution_count": null,
      "metadata": {
        "id": "HFfJ3BedcSDL"
      },
      "outputs": [],
      "source": [
        "def plot_states(circuit, register, number_of_qubits=None, backend_name='statevector_simulator'):\n",
        "   #Run a circuit on all base state vectors and show the output.\n",
        "   base_states = 2 ** number_of_qubits #Number of base states\n",
        "   backend = BasicAer.get_backend(backend_name)\n",
        "   for base_state in range(base_states):\n",
        "       pre_circuit = QuantumCircuit(register) #define a new circuit\n",
        "       state = base_state\n",
        "       for i in range(number_of_qubits):\n",
        "           if state % 2 == 1:\n",
        "               pre_circuit.x(q[i]) #if the least significant bit is 1 we apply a Pauli Gate to the i-th bit, flipping it from 0 to 1\n",
        "           state = state // 2\n",
        "       final_circuit = pre_circuit.compose(circuit)\n",
        "       job = execute(final_circuit, backend=backend)\n",
        "       output_state = job.result().get_statevector(final_circuit)\n",
        "       text = format_vector(output_state)\n",
        "       display(Math(text))"
      ]
    },
    {
      "cell_type": "markdown",
      "metadata": {
        "id": "WE3JTgNfsOjO"
      },
      "source": [
        "if state % 2 == 1 condition checks if the LSB of the state variable is 1. If it is, it means that the corresponding qubit should be initialized to the state |1⟩. Therefore, an X gate is applied to the qubit (pre_circuit.x(q[i])) to flip it from the state |0⟩ to |1⟩.\n",
        "\n",
        "Base state is just an array that ranges from 0 to 7. If we don't apply the X gate we would have all the states equal to 000"
      ]
    },
    {
      "cell_type": "code",
      "execution_count": null,
      "metadata": {
        "colab": {
          "base_uri": "https://localhost:8080/",
          "height": 180
        },
        "id": "EaDwKr6Bk8Oi",
        "outputId": "14eb09f6-e501-49ee-db1d-d044157585bb"
      },
      "outputs": [
        {
          "output_type": "display_data",
          "data": {
            "text/plain": [
              "<IPython.core.display.Math object>"
            ],
            "text/latex": "$\\displaystyle +1\\left\\lvert 000\\right\\rangle $"
          },
          "metadata": {}
        },
        {
          "output_type": "display_data",
          "data": {
            "text/plain": [
              "<IPython.core.display.Math object>"
            ],
            "text/latex": "$\\displaystyle +1\\left\\lvert 001\\right\\rangle $"
          },
          "metadata": {}
        },
        {
          "output_type": "display_data",
          "data": {
            "text/plain": [
              "<IPython.core.display.Math object>"
            ],
            "text/latex": "$\\displaystyle +1\\left\\lvert 010\\right\\rangle $"
          },
          "metadata": {}
        },
        {
          "output_type": "display_data",
          "data": {
            "text/plain": [
              "<IPython.core.display.Math object>"
            ],
            "text/latex": "$\\displaystyle -1\\left\\lvert 011\\right\\rangle $"
          },
          "metadata": {}
        },
        {
          "output_type": "display_data",
          "data": {
            "text/plain": [
              "<IPython.core.display.Math object>"
            ],
            "text/latex": "$\\displaystyle +1\\left\\lvert 100\\right\\rangle $"
          },
          "metadata": {}
        },
        {
          "output_type": "display_data",
          "data": {
            "text/plain": [
              "<IPython.core.display.Math object>"
            ],
            "text/latex": "$\\displaystyle -1\\left\\lvert 101\\right\\rangle $"
          },
          "metadata": {}
        },
        {
          "output_type": "display_data",
          "data": {
            "text/plain": [
              "<IPython.core.display.Math object>"
            ],
            "text/latex": "$\\displaystyle +1\\left\\lvert 110\\right\\rangle $"
          },
          "metadata": {}
        },
        {
          "output_type": "display_data",
          "data": {
            "text/plain": [
              "<IPython.core.display.Math object>"
            ],
            "text/latex": "$\\displaystyle -1\\left\\lvert 111\\right\\rangle $"
          },
          "metadata": {}
        }
      ],
      "source": [
        "plot_states(qc, q, 3)"
      ]
    },
    {
      "cell_type": "markdown",
      "metadata": {
        "id": "8bV8rjOox-qc"
      },
      "source": [
        "We now need to apply inversion about the mean, but the algorithm corresponds to writing HZH\n",
        "https://anonymousket.medium.com/intro-inversion-about-the-mean-d4eede64aa50\n",
        "for all the calculation"
      ]
    },
    {
      "cell_type": "code",
      "execution_count": null,
      "metadata": {
        "id": "fned0HdSlCvv"
      },
      "outputs": [],
      "source": [
        "from qiskit.circuit.library import MCMT\n",
        "\n",
        "def inversion_about_average(circuit, register, n_qubits):\n",
        "    \"\"\"Apply inversion about the average step of Grover's algorithm.\"\"\"\n",
        "    # Hadamards everywhere\n",
        "    if n==1:\n",
        "        circuit.x(register[0])\n",
        "        return\n",
        "    for j in range(n):\n",
        "        circuit.h(register[j])\n",
        "\n",
        "    for j in range(n):\n",
        "        circuit.x(register[j])\n",
        "    circuit.h(register[n-1])\n",
        "    circuit.mcx([register[j] for j in range(n-1)], register[n-1])\n",
        "    circuit.h(register[n-1])\n",
        "    for j in range(n):\n",
        "        circuit.x(register[j])\n",
        "\n",
        "    # Hadamards everywhere again\n",
        "    for j in range(n):\n",
        "        circuit.h(register[j])"
      ]
    },
    {
      "cell_type": "code",
      "execution_count": null,
      "metadata": {
        "colab": {
          "base_uri": "https://localhost:8080/",
          "height": 255
        },
        "id": "8ANh3xpXM2pP",
        "outputId": "b4c83c57-c4dc-4fbd-acb0-d15b339ea106"
      },
      "outputs": [
        {
          "data": {
            "image/png": "[encoded data removed]",
            "text/plain": [
              "<Figure size 723.581x367.889 with 1 Axes>"
            ]
          },
          "execution_count": 7,
          "metadata": {},
          "output_type": "execute_result"
        }
      ],
      "source": [
        "qInverted = QuantumCircuit(q)\n",
        "inversion_about_average(qInverted, q, n)\n",
        "qInverted.draw(output='mpl')"
      ]
    },
    {
      "cell_type": "markdown",
      "metadata": {
        "id": "dNzCAUaBQSgT"
      },
      "source": [
        "The resulting states are the following:"
      ]
    },
    {
      "cell_type": "code",
      "execution_count": null,
      "metadata": {
        "colab": {
          "base_uri": "https://localhost:8080/",
          "height": 180
        },
        "id": "wrpzPg5cNOF9",
        "outputId": "3632602e-2462-46ac-9acd-1df42f75d361"
      },
      "outputs": [
        {
          "data": {
            "text/latex": [
              "$\\displaystyle +0.875\\left\\lvert 0000\\right\\rangle -0.125\\left\\lvert 0001\\right\\rangle -0.125\\left\\lvert 0010\\right\\rangle -0.125\\left\\lvert 0011\\right\\rangle -0.125\\left\\lvert 0100\\right\\rangle -0.125\\left\\lvert 0101\\right\\rangle -0.125\\left\\lvert 0110\\right\\rangle -0.125\\left\\lvert 0111\\right\\rangle -0.125\\left\\lvert 1000\\right\\rangle -0.125\\left\\lvert 1001\\right\\rangle -0.125\\left\\lvert 1010\\right\\rangle -0.125\\left\\lvert 1011\\right\\rangle -0.125\\left\\lvert 1100\\right\\rangle -0.125\\left\\lvert 1101\\right\\rangle -0.125\\left\\lvert 1110\\right\\rangle -0.125\\left\\lvert 1111\\right\\rangle $"
            ],
            "text/plain": [
              "<IPython.core.display.Math object>"
            ]
          },
          "metadata": {},
          "output_type": "display_data"
        },
        {
          "data": {
            "text/latex": [
              "$\\displaystyle -0.125\\left\\lvert 0000\\right\\rangle +0.875\\left\\lvert 0001\\right\\rangle -0.125\\left\\lvert 0010\\right\\rangle -0.125\\left\\lvert 0011\\right\\rangle -0.125\\left\\lvert 0100\\right\\rangle -0.125\\left\\lvert 0101\\right\\rangle -0.125\\left\\lvert 0110\\right\\rangle -0.125\\left\\lvert 0111\\right\\rangle -0.125\\left\\lvert 1000\\right\\rangle -0.125\\left\\lvert 1001\\right\\rangle -0.125\\left\\lvert 1010\\right\\rangle -0.125\\left\\lvert 1011\\right\\rangle -0.125\\left\\lvert 1100\\right\\rangle -0.125\\left\\lvert 1101\\right\\rangle -0.125\\left\\lvert 1110\\right\\rangle -0.125\\left\\lvert 1111\\right\\rangle $"
            ],
            "text/plain": [
              "<IPython.core.display.Math object>"
            ]
          },
          "metadata": {},
          "output_type": "display_data"
        },
        {
          "data": {
            "text/latex": [
              "$\\displaystyle -0.125\\left\\lvert 0000\\right\\rangle -0.125\\left\\lvert 0001\\right\\rangle +0.875\\left\\lvert 0010\\right\\rangle -0.125\\left\\lvert 0011\\right\\rangle -0.125\\left\\lvert 0100\\right\\rangle -0.125\\left\\lvert 0101\\right\\rangle -0.125\\left\\lvert 0110\\right\\rangle -0.125\\left\\lvert 0111\\right\\rangle -0.125\\left\\lvert 1000\\right\\rangle -0.125\\left\\lvert 1001\\right\\rangle -0.125\\left\\lvert 1010\\right\\rangle -0.125\\left\\lvert 1011\\right\\rangle -0.125\\left\\lvert 1100\\right\\rangle -0.125\\left\\lvert 1101\\right\\rangle -0.125\\left\\lvert 1110\\right\\rangle -0.125\\left\\lvert 1111\\right\\rangle $"
            ],
            "text/plain": [
              "<IPython.core.display.Math object>"
            ]
          },
          "metadata": {},
          "output_type": "display_data"
        },
        {
          "data": {
            "text/latex": [
              "$\\displaystyle -0.125\\left\\lvert 0000\\right\\rangle -0.125\\left\\lvert 0001\\right\\rangle -0.125\\left\\lvert 0010\\right\\rangle +0.875\\left\\lvert 0011\\right\\rangle -0.125\\left\\lvert 0100\\right\\rangle -0.125\\left\\lvert 0101\\right\\rangle -0.125\\left\\lvert 0110\\right\\rangle -0.125\\left\\lvert 0111\\right\\rangle -0.125\\left\\lvert 1000\\right\\rangle -0.125\\left\\lvert 1001\\right\\rangle -0.125\\left\\lvert 1010\\right\\rangle -0.125\\left\\lvert 1011\\right\\rangle -0.125\\left\\lvert 1100\\right\\rangle -0.125\\left\\lvert 1101\\right\\rangle -0.125\\left\\lvert 1110\\right\\rangle -0.125\\left\\lvert 1111\\right\\rangle $"
            ],
            "text/plain": [
              "<IPython.core.display.Math object>"
            ]
          },
          "metadata": {},
          "output_type": "display_data"
        },
        {
          "data": {
            "text/latex": [
              "$\\displaystyle -0.125\\left\\lvert 0000\\right\\rangle -0.125\\left\\lvert 0001\\right\\rangle -0.125\\left\\lvert 0010\\right\\rangle -0.125\\left\\lvert 0011\\right\\rangle +0.875\\left\\lvert 0100\\right\\rangle -0.125\\left\\lvert 0101\\right\\rangle -0.125\\left\\lvert 0110\\right\\rangle -0.125\\left\\lvert 0111\\right\\rangle -0.125\\left\\lvert 1000\\right\\rangle -0.125\\left\\lvert 1001\\right\\rangle -0.125\\left\\lvert 1010\\right\\rangle -0.125\\left\\lvert 1011\\right\\rangle -0.125\\left\\lvert 1100\\right\\rangle -0.125\\left\\lvert 1101\\right\\rangle -0.125\\left\\lvert 1110\\right\\rangle -0.125\\left\\lvert 1111\\right\\rangle $"
            ],
            "text/plain": [
              "<IPython.core.display.Math object>"
            ]
          },
          "metadata": {},
          "output_type": "display_data"
        },
        {
          "data": {
            "text/latex": [
              "$\\displaystyle -0.125\\left\\lvert 0000\\right\\rangle -0.125\\left\\lvert 0001\\right\\rangle -0.125\\left\\lvert 0010\\right\\rangle -0.125\\left\\lvert 0011\\right\\rangle -0.125\\left\\lvert 0100\\right\\rangle +0.875\\left\\lvert 0101\\right\\rangle -0.125\\left\\lvert 0110\\right\\rangle -0.125\\left\\lvert 0111\\right\\rangle -0.125\\left\\lvert 1000\\right\\rangle -0.125\\left\\lvert 1001\\right\\rangle -0.125\\left\\lvert 1010\\right\\rangle -0.125\\left\\lvert 1011\\right\\rangle -0.125\\left\\lvert 1100\\right\\rangle -0.125\\left\\lvert 1101\\right\\rangle -0.125\\left\\lvert 1110\\right\\rangle -0.125\\left\\lvert 1111\\right\\rangle $"
            ],
            "text/plain": [
              "<IPython.core.display.Math object>"
            ]
          },
          "metadata": {},
          "output_type": "display_data"
        },
        {
          "data": {
            "text/latex": [
              "$\\displaystyle -0.125\\left\\lvert 0000\\right\\rangle -0.125\\left\\lvert 0001\\right\\rangle -0.125\\left\\lvert 0010\\right\\rangle -0.125\\left\\lvert 0011\\right\\rangle -0.125\\left\\lvert 0100\\right\\rangle -0.125\\left\\lvert 0101\\right\\rangle +0.875\\left\\lvert 0110\\right\\rangle -0.125\\left\\lvert 0111\\right\\rangle -0.125\\left\\lvert 1000\\right\\rangle -0.125\\left\\lvert 1001\\right\\rangle -0.125\\left\\lvert 1010\\right\\rangle -0.125\\left\\lvert 1011\\right\\rangle -0.125\\left\\lvert 1100\\right\\rangle -0.125\\left\\lvert 1101\\right\\rangle -0.125\\left\\lvert 1110\\right\\rangle -0.125\\left\\lvert 1111\\right\\rangle $"
            ],
            "text/plain": [
              "<IPython.core.display.Math object>"
            ]
          },
          "metadata": {},
          "output_type": "display_data"
        },
        {
          "data": {
            "text/latex": [
              "$\\displaystyle -0.125\\left\\lvert 0000\\right\\rangle -0.125\\left\\lvert 0001\\right\\rangle -0.125\\left\\lvert 0010\\right\\rangle -0.125\\left\\lvert 0011\\right\\rangle -0.125\\left\\lvert 0100\\right\\rangle -0.125\\left\\lvert 0101\\right\\rangle -0.125\\left\\lvert 0110\\right\\rangle +0.875\\left\\lvert 0111\\right\\rangle -0.125\\left\\lvert 1000\\right\\rangle -0.125\\left\\lvert 1001\\right\\rangle -0.125\\left\\lvert 1010\\right\\rangle -0.125\\left\\lvert 1011\\right\\rangle -0.125\\left\\lvert 1100\\right\\rangle -0.125\\left\\lvert 1101\\right\\rangle -0.125\\left\\lvert 1110\\right\\rangle -0.125\\left\\lvert 1111\\right\\rangle $"
            ],
            "text/plain": [
              "<IPython.core.display.Math object>"
            ]
          },
          "metadata": {},
          "output_type": "display_data"
        },
        {
          "data": {
            "text/latex": [
              "$\\displaystyle -0.125\\left\\lvert 0000\\right\\rangle -0.125\\left\\lvert 0001\\right\\rangle -0.125\\left\\lvert 0010\\right\\rangle -0.125\\left\\lvert 0011\\right\\rangle -0.125\\left\\lvert 0100\\right\\rangle -0.125\\left\\lvert 0101\\right\\rangle -0.125\\left\\lvert 0110\\right\\rangle -0.125\\left\\lvert 0111\\right\\rangle +0.875\\left\\lvert 1000\\right\\rangle -0.125\\left\\lvert 1001\\right\\rangle -0.125\\left\\lvert 1010\\right\\rangle -0.125\\left\\lvert 1011\\right\\rangle -0.125\\left\\lvert 1100\\right\\rangle -0.125\\left\\lvert 1101\\right\\rangle -0.125\\left\\lvert 1110\\right\\rangle -0.125\\left\\lvert 1111\\right\\rangle $"
            ],
            "text/plain": [
              "<IPython.core.display.Math object>"
            ]
          },
          "metadata": {},
          "output_type": "display_data"
        },
        {
          "data": {
            "text/latex": [
              "$\\displaystyle -0.125\\left\\lvert 0000\\right\\rangle -0.125\\left\\lvert 0001\\right\\rangle -0.125\\left\\lvert 0010\\right\\rangle -0.125\\left\\lvert 0011\\right\\rangle -0.125\\left\\lvert 0100\\right\\rangle -0.125\\left\\lvert 0101\\right\\rangle -0.125\\left\\lvert 0110\\right\\rangle -0.125\\left\\lvert 0111\\right\\rangle -0.125\\left\\lvert 1000\\right\\rangle +0.875\\left\\lvert 1001\\right\\rangle -0.125\\left\\lvert 1010\\right\\rangle -0.125\\left\\lvert 1011\\right\\rangle -0.125\\left\\lvert 1100\\right\\rangle -0.125\\left\\lvert 1101\\right\\rangle -0.125\\left\\lvert 1110\\right\\rangle -0.125\\left\\lvert 1111\\right\\rangle $"
            ],
            "text/plain": [
              "<IPython.core.display.Math object>"
            ]
          },
          "metadata": {},
          "output_type": "display_data"
        },
        {
          "data": {
            "text/latex": [
              "$\\displaystyle -0.125\\left\\lvert 0000\\right\\rangle -0.125\\left\\lvert 0001\\right\\rangle -0.125\\left\\lvert 0010\\right\\rangle -0.125\\left\\lvert 0011\\right\\rangle -0.125\\left\\lvert 0100\\right\\rangle -0.125\\left\\lvert 0101\\right\\rangle -0.125\\left\\lvert 0110\\right\\rangle -0.125\\left\\lvert 0111\\right\\rangle -0.125\\left\\lvert 1000\\right\\rangle -0.125\\left\\lvert 1001\\right\\rangle +0.875\\left\\lvert 1010\\right\\rangle -0.125\\left\\lvert 1011\\right\\rangle -0.125\\left\\lvert 1100\\right\\rangle -0.125\\left\\lvert 1101\\right\\rangle -0.125\\left\\lvert 1110\\right\\rangle -0.125\\left\\lvert 1111\\right\\rangle $"
            ],
            "text/plain": [
              "<IPython.core.display.Math object>"
            ]
          },
          "metadata": {},
          "output_type": "display_data"
        },
        {
          "data": {
            "text/latex": [
              "$\\displaystyle -0.125\\left\\lvert 0000\\right\\rangle -0.125\\left\\lvert 0001\\right\\rangle -0.125\\left\\lvert 0010\\right\\rangle -0.125\\left\\lvert 0011\\right\\rangle -0.125\\left\\lvert 0100\\right\\rangle -0.125\\left\\lvert 0101\\right\\rangle -0.125\\left\\lvert 0110\\right\\rangle -0.125\\left\\lvert 0111\\right\\rangle -0.125\\left\\lvert 1000\\right\\rangle -0.125\\left\\lvert 1001\\right\\rangle -0.125\\left\\lvert 1010\\right\\rangle +0.875\\left\\lvert 1011\\right\\rangle -0.125\\left\\lvert 1100\\right\\rangle -0.125\\left\\lvert 1101\\right\\rangle -0.125\\left\\lvert 1110\\right\\rangle -0.125\\left\\lvert 1111\\right\\rangle $"
            ],
            "text/plain": [
              "<IPython.core.display.Math object>"
            ]
          },
          "metadata": {},
          "output_type": "display_data"
        },
        {
          "data": {
            "text/latex": [
              "$\\displaystyle -0.125\\left\\lvert 0000\\right\\rangle -0.125\\left\\lvert 0001\\right\\rangle -0.125\\left\\lvert 0010\\right\\rangle -0.125\\left\\lvert 0011\\right\\rangle -0.125\\left\\lvert 0100\\right\\rangle -0.125\\left\\lvert 0101\\right\\rangle -0.125\\left\\lvert 0110\\right\\rangle -0.125\\left\\lvert 0111\\right\\rangle -0.125\\left\\lvert 1000\\right\\rangle -0.125\\left\\lvert 1001\\right\\rangle -0.125\\left\\lvert 1010\\right\\rangle -0.125\\left\\lvert 1011\\right\\rangle +0.875\\left\\lvert 1100\\right\\rangle -0.125\\left\\lvert 1101\\right\\rangle -0.125\\left\\lvert 1110\\right\\rangle -0.125\\left\\lvert 1111\\right\\rangle $"
            ],
            "text/plain": [
              "<IPython.core.display.Math object>"
            ]
          },
          "metadata": {},
          "output_type": "display_data"
        },
        {
          "data": {
            "text/latex": [
              "$\\displaystyle -0.125\\left\\lvert 0000\\right\\rangle -0.125\\left\\lvert 0001\\right\\rangle -0.125\\left\\lvert 0010\\right\\rangle -0.125\\left\\lvert 0011\\right\\rangle -0.125\\left\\lvert 0100\\right\\rangle -0.125\\left\\lvert 0101\\right\\rangle -0.125\\left\\lvert 0110\\right\\rangle -0.125\\left\\lvert 0111\\right\\rangle -0.125\\left\\lvert 1000\\right\\rangle -0.125\\left\\lvert 1001\\right\\rangle -0.125\\left\\lvert 1010\\right\\rangle -0.125\\left\\lvert 1011\\right\\rangle -0.125\\left\\lvert 1100\\right\\rangle +0.875\\left\\lvert 1101\\right\\rangle -0.125\\left\\lvert 1110\\right\\rangle -0.125\\left\\lvert 1111\\right\\rangle $"
            ],
            "text/plain": [
              "<IPython.core.display.Math object>"
            ]
          },
          "metadata": {},
          "output_type": "display_data"
        },
        {
          "data": {
            "text/latex": [
              "$\\displaystyle -0.125\\left\\lvert 0000\\right\\rangle -0.125\\left\\lvert 0001\\right\\rangle -0.125\\left\\lvert 0010\\right\\rangle -0.125\\left\\lvert 0011\\right\\rangle -0.125\\left\\lvert 0100\\right\\rangle -0.125\\left\\lvert 0101\\right\\rangle -0.125\\left\\lvert 0110\\right\\rangle -0.125\\left\\lvert 0111\\right\\rangle -0.125\\left\\lvert 1000\\right\\rangle -0.125\\left\\lvert 1001\\right\\rangle -0.125\\left\\lvert 1010\\right\\rangle -0.125\\left\\lvert 1011\\right\\rangle -0.125\\left\\lvert 1100\\right\\rangle -0.125\\left\\lvert 1101\\right\\rangle +0.875\\left\\lvert 1110\\right\\rangle -0.125\\left\\lvert 1111\\right\\rangle $"
            ],
            "text/plain": [
              "<IPython.core.display.Math object>"
            ]
          },
          "metadata": {},
          "output_type": "display_data"
        },
        {
          "data": {
            "text/latex": [
              "$\\displaystyle -0.125\\left\\lvert 0000\\right\\rangle -0.125\\left\\lvert 0001\\right\\rangle -0.125\\left\\lvert 0010\\right\\rangle -0.125\\left\\lvert 0011\\right\\rangle -0.125\\left\\lvert 0100\\right\\rangle -0.125\\left\\lvert 0101\\right\\rangle -0.125\\left\\lvert 0110\\right\\rangle -0.125\\left\\lvert 0111\\right\\rangle -0.125\\left\\lvert 1000\\right\\rangle -0.125\\left\\lvert 1001\\right\\rangle -0.125\\left\\lvert 1010\\right\\rangle -0.125\\left\\lvert 1011\\right\\rangle -0.125\\left\\lvert 1100\\right\\rangle -0.125\\left\\lvert 1101\\right\\rangle -0.125\\left\\lvert 1110\\right\\rangle +0.875\\left\\lvert 1111\\right\\rangle $"
            ],
            "text/plain": [
              "<IPython.core.display.Math object>"
            ]
          },
          "metadata": {},
          "output_type": "display_data"
        }
      ],
      "source": [
        "qc = QuantumCircuit(q)\n",
        "inversion_about_average(qc, q, 4)\n",
        "\n",
        "plot_states(qc, q, 4)"
      ]
    },
    {
      "cell_type": "markdown",
      "metadata": {
        "id": "NNHJCoj3V0Wq"
      },
      "source": [
        "## Grover Search Algorithm"
      ]
    },
    {
      "cell_type": "markdown",
      "metadata": {
        "id": "Z_HCVTIYV3ah"
      },
      "source": [
        "The optimal number of iterations for a dataset N = $2^n$ is equal to:\\\n",
        "t = $\\frac{\\pi \\sqrt(N)}{4}$"
      ]
    },
    {
      "cell_type": "code",
      "execution_count": null,
      "metadata": {
        "colab": {
          "base_uri": "https://localhost:8080/"
        },
        "id": "XLSdvzhfQ1Rr",
        "outputId": "a70a88db-c476-4cb8-fbea-ed1018a72400"
      },
      "outputs": [
        {
          "name": "stdout",
          "output_type": "stream",
          "text": [
            "Optimal number of iterations for 4 qubits is: 3.14\n",
            "Theta =  0.505\n"
          ]
        }
      ],
      "source": [
        "theta = 2*np.arcsin(1/np.sqrt(N))\n",
        "r=np.pi*np.sqrt(N)/4\n",
        "print(\"Optimal number of iterations for 4 qubits is:\", r.round(2))\n",
        "print(\"Theta = \", theta.round(3))\n",
        "\n",
        "T = int(r)"
      ]
    },
    {
      "cell_type": "code",
      "execution_count": null,
      "metadata": {
        "colab": {
          "base_uri": "https://localhost:8080/"
        },
        "id": "3pwY7JHNYt_Y",
        "outputId": "cb24d36d-8763-481d-c779-bba00d0c1e4a"
      },
      "outputs": [
        {
          "name": "stdout",
          "output_type": "stream",
          "text": [
            "number of iterations T=3\n"
          ]
        }
      ],
      "source": [
        "def input_circuit(circuit, register, n_qubits):\n",
        "    #Initializing the circuit\n",
        "    for j in range(n):\n",
        "        circuit.h(register[j])\n",
        "\n",
        "q = QuantumRegister(n)\n",
        "ans = ClassicalRegister(n)\n",
        "qc = QuantumCircuit(q, ans)\n",
        "\n",
        "input_circuit(qc, q, n)\n",
        "\n",
        "backend=BasicAer.get_backend('statevector_simulator')\n",
        "job = execute(qc, backend=backend, shots=10)\n",
        "result = job.result()\n",
        "state_vector = result.get_statevector(qc)\n",
        "\n",
        "# apply T rounds of oracle and inversion about the average\n",
        "print('number of iterations T=%d'% T)\n",
        "for t in range(T):\n",
        "    qc.i(q[0])\n",
        "    # Apply T full iterations\n",
        "    black_box(qc, q)\n",
        "    qc.i(q[0])\n",
        "    inversion_about_average(qc, q, n)\n",
        "\n",
        "# Measure the output register in the computational basis\n",
        "for j in range(n):\n",
        "    qc.measure(q[j], ans[j])"
      ]
    },
    {
      "cell_type": "code",
      "execution_count": null,
      "metadata": {
        "colab": {
          "base_uri": "https://localhost:8080/",
          "height": 472
        },
        "id": "tfWf8xmgk6vZ",
        "outputId": "3656b51f-df0d-4e1d-c18f-badaa31d33d5"
      },
      "outputs": [
        {
          "data": {
            "image/png": "[encoded data removed]",
            "text/plain": [
              "<Figure size 700x500 with 1 Axes>"
            ]
          },
          "execution_count": 16,
          "metadata": {},
          "output_type": "execute_result"
        }
      ],
      "source": [
        "# Execute circuit\n",
        "backend=BasicAer.get_backend('qasm_simulator')\n",
        "job  = execute(qc, backend=backend, shots=1000)\n",
        "result = job.result()\n",
        "\n",
        "# Get counts and plot histogram\n",
        "counts = result.get_counts()\n",
        "plot_histogram(counts)"
      ]
    },
    {
      "cell_type": "markdown",
      "metadata": {
        "id": "4208-4RclBN5"
      },
      "source": [
        "Let's try to implement the same on a quantum computer to see the performance"
      ]
    },
    {
      "cell_type": "code",
      "execution_count": null,
      "metadata": {
        "tags": [],
        "id": "RzeMW40sSZJs",
        "outputId": "ffae7da3-257d-4a92-f082-e1caabdbb6dc"
      },
      "outputs": [
        {
          "name": "stderr",
          "output_type": "stream",
          "text": [
            "/tmp/ipykernel_62/1338325679.py:4: DeprecationWarning: The package qiskit.providers.ibmq is being deprecated. Please see https://ibm.biz/provider_migration_guide to get instructions on how to migrate to qiskit-ibm-provider (https://github.com/Qiskit/qiskit-ibm-provider) and qiskit-ibm-runtime (https://github.com/Qiskit/qiskit-ibm-runtime).\n",
            "  IBMQ.load_account()\n",
            "/tmp/ipykernel_62/1338325679.py:4: DeprecationWarning: The qiskit.IBMQ entrypoint and the qiskit-ibmq-provider package (accessible from 'qiskit.providers.ibmq`) are deprecated and will be removed in a future release. Instead you should use the qiskit-ibm-provider package which is accessible from 'qiskit_ibm_provider'. You can install it with 'pip install qiskit_ibm_provider'. Just replace 'qiskit.IBMQ' with 'qiskit_ibm_provider.IBMProvider'\n",
            "  IBMQ.load_account()\n"
          ]
        },
        {
          "name": "stdout",
          "output_type": "stream",
          "text": [
            "[<IBMQSimulator('ibmq_qasm_simulator') from IBMQ(hub='ibm-q', group='open', project='main')>, <IBMQBackend('ibmq_lima') from IBMQ(hub='ibm-q', group='open', project='main')>, <IBMQBackend('ibmq_belem') from IBMQ(hub='ibm-q', group='open', project='main')>, <IBMQBackend('ibmq_quito') from IBMQ(hub='ibm-q', group='open', project='main')>, <IBMQSimulator('simulator_statevector') from IBMQ(hub='ibm-q', group='open', project='main')>, <IBMQSimulator('simulator_mps') from IBMQ(hub='ibm-q', group='open', project='main')>, <IBMQSimulator('simulator_extended_stabilizer') from IBMQ(hub='ibm-q', group='open', project='main')>, <IBMQSimulator('simulator_stabilizer') from IBMQ(hub='ibm-q', group='open', project='main')>, <IBMQBackend('ibmq_jakarta') from IBMQ(hub='ibm-q', group='open', project='main')>, <IBMQBackend('ibmq_manila') from IBMQ(hub='ibm-q', group='open', project='main')>, <IBMQBackend('ibm_lagos') from IBMQ(hub='ibm-q', group='open', project='main')>, <IBMQBackend('ibm_nairobi') from IBMQ(hub='ibm-q', group='open', project='main')>, <IBMQBackend('ibm_perth') from IBMQ(hub='ibm-q', group='open', project='main')>]\n"
          ]
        }
      ],
      "source": [
        "from qiskit_ibm_runtime import QiskitRuntimeService\n",
        "from qiskit import IBMQ\n",
        "\n",
        "IBMQ.load_account()\n",
        "\n",
        "service = QiskitRuntimeService()\n",
        "provider = IBMQ.get_provider(hub='ibm-q', group='open', project='main')\n",
        "print(provider.backends())\n",
        "backend = \"ibmq_lima\""
      ]
    },
    {
      "cell_type": "code",
      "execution_count": null,
      "metadata": {
        "tags": [],
        "id": "w2cAQKYXSZJt"
      },
      "outputs": [],
      "source": [
        "from qiskit_ibm_runtime import Sampler, Session\n",
        "\n",
        "backend = service.get_backend(\"ibmq_lima\")\n",
        "\n",
        "with Session(service=service, backend=backend):\n",
        "    sampler = Sampler()\n",
        "    job = sampler.run(qc, shots=int(1e4)).result().quasi_dists[0]\n",
        "    plot_distribution(job.binary_probabilities())\n",
        "\n",
        "result = job.result()\n",
        "counts = result.get_counts()\n"
      ]
    },
    {
      "cell_type": "code",
      "execution_count": null,
      "metadata": {
        "tags": [],
        "id": "VET_2Q_sSZJt"
      },
      "outputs": [],
      "source": [
        "from qiskit.utils.mitigation import CompleteMeasFitter, complete_meas_cal"
      ]
    },
    {
      "cell_type": "markdown",
      "metadata": {
        "id": "AXo2FdzcSZJu"
      },
      "source": [
        "Retrieving the last job, in this way we avoid to repeat the computation each time but we can used the jobs already computed"
      ]
    },
    {
      "cell_type": "code",
      "execution_count": null,
      "metadata": {
        "tags": [],
        "id": "-SQecwRBSZJv",
        "outputId": "ffb355b6-1104-417b-fd3b-f792b688b15f"
      },
      "outputs": [
        {
          "data": {
            "text/plain": [
              "dict_values([0.050491915364520384, 0.0539217438009855, 0.053782959195856246, 0.060006681117878755, 0.07086015280438321, 0.06816840304096848, 0.06705998472797023, 0.09780864320022838, 0.05066284946831671, 0.051171855984388545, 0.04488259753690956, 0.05610095698363049, 0.06524542256130421, 0.06414258702008907, 0.06564633209398518, 0.08004691509858508])"
            ]
          },
          "execution_count": 17,
          "metadata": {},
          "output_type": "execute_result"
        }
      ],
      "source": [
        "import numpy as np\n",
        "job_id = 'cim0oveuepl060qoqgk0'\n",
        "job = service.job(job_id)\n",
        "result = job.result()\n",
        "prova = result.quasi_dists[0]\n",
        "prova\n",
        "\n",
        "prova.values()"
      ]
    },
    {
      "cell_type": "code",
      "execution_count": null,
      "metadata": {
        "tags": [],
        "id": "mmB6KGEwSZJv",
        "outputId": "81355aec-a091-4243-bfcb-90879a66d7cc"
      },
      "outputs": [
        {
          "name": "stderr",
          "output_type": "stream",
          "text": [
            "/tmp/ipykernel_62/1307493793.py:2: DeprecationWarning: The function ``qiskit.utils.mitigation.circuits.complete_meas_cal()`` is deprecated as of qiskit-terra 0.24.0. It will be removed no earlier than 3 months after the release date. For code migration guidelines, visit https://qisk.it/qi_migration.\n",
            "  meas_calibs, state_labels = complete_meas_cal(qubit_list=qubit_list, qr=q, circlabel='mcal')\n"
          ]
        }
      ],
      "source": [
        "qubit_list = [0,1,2,3]\n",
        "meas_calibs, state_labels = complete_meas_cal(qubit_list=qubit_list, qr=q, circlabel='mcal')"
      ]
    },
    {
      "cell_type": "code",
      "execution_count": null,
      "metadata": {
        "tags": [],
        "id": "8OUCbrGuSZJw"
      },
      "outputs": [],
      "source": [
        "backend = provider.get_backend(\"ibmq_lima\")\n",
        "job = execute(meas_calibs, backend=backend, shots=1000)\n",
        "cal_results = job.result()"
      ]
    },
    {
      "cell_type": "code",
      "execution_count": null,
      "metadata": {
        "tags": [],
        "id": "1OI83E6rSZJx"
      },
      "outputs": [],
      "source": [
        "job_id = 'cim4hejc243ejri80fsg'\n",
        "job = service.job(job_id)\n",
        "cal_results = job.result()\n"
      ]
    },
    {
      "cell_type": "code",
      "execution_count": null,
      "metadata": {
        "tags": [],
        "id": "zvY6_MimSZJx",
        "outputId": "3af74f1c-0f24-424f-e6f3-50d9ffef9cdf"
      },
      "outputs": [
        {
          "name": "stdout",
          "output_type": "stream",
          "text": [
            "[[0.952 0.039 0.043 0.    0.035 0.    0.    0.    0.05  0.001 0.001 0.\n",
            "  0.002 0.    0.    0.   ]\n",
            " [0.011 0.94  0.001 0.027 0.001 0.035 0.    0.002 0.    0.048 0.    0.002\n",
            "  0.    0.004 0.    0.   ]\n",
            " [0.01  0.    0.917 0.045 0.001 0.    0.036 0.    0.001 0.    0.059 0.003\n",
            "  0.    0.    0.001 0.   ]\n",
            " [0.    0.005 0.011 0.905 0.    0.    0.001 0.043 0.    0.    0.001 0.045\n",
            "  0.    0.    0.    0.006]\n",
            " [0.008 0.001 0.    0.    0.922 0.031 0.027 0.003 0.    0.    0.    0.\n",
            "  0.045 0.001 0.002 0.   ]\n",
            " [0.001 0.005 0.    0.    0.014 0.911 0.    0.019 0.    0.002 0.    0.\n",
            "  0.001 0.049 0.    0.003]\n",
            " [0.    0.    0.007 0.001 0.005 0.    0.903 0.034 0.    0.    0.    0.\n",
            "  0.001 0.    0.059 0.003]\n",
            " [0.    0.    0.    0.009 0.    0.005 0.011 0.869 0.    0.    0.    0.001\n",
            "  0.    0.001 0.001 0.046]\n",
            " [0.018 0.    0.001 0.    0.    0.    0.    0.    0.925 0.04  0.027 0.\n",
            "  0.029 0.001 0.001 0.   ]\n",
            " [0.    0.01  0.    0.001 0.    0.    0.    0.    0.008 0.904 0.001 0.027\n",
            "  0.001 0.029 0.    0.002]\n",
            " [0.    0.    0.019 0.    0.    0.    0.    0.001 0.009 0.    0.888 0.028\n",
            "  0.001 0.    0.033 0.001]\n",
            " [0.    0.    0.    0.012 0.    0.    0.    0.001 0.    0.001 0.01  0.891\n",
            "  0.    0.001 0.001 0.024]\n",
            " [0.    0.    0.    0.    0.021 0.    0.    0.    0.005 0.    0.001 0.\n",
            "  0.9   0.042 0.026 0.001]\n",
            " [0.    0.    0.    0.    0.001 0.018 0.    0.002 0.    0.004 0.    0.\n",
            "  0.007 0.867 0.001 0.03 ]\n",
            " [0.    0.    0.001 0.    0.    0.    0.022 0.    0.002 0.    0.012 0.\n",
            "  0.012 0.001 0.861 0.032]\n",
            " [0.    0.    0.    0.    0.    0.    0.    0.026 0.    0.    0.    0.003\n",
            "  0.001 0.004 0.014 0.852]]\n"
          ]
        },
        {
          "name": "stderr",
          "output_type": "stream",
          "text": [
            "/tmp/ipykernel_62/2116538148.py:1: DeprecationWarning: The class ``qiskit.utils.mitigation.fitters.CompleteMeasFitter`` is deprecated as of qiskit-terra 0.24.0. It will be removed no earlier than 3 months after the release date. For code migration guidelines, visit https://qisk.it/qi_migration.\n",
            "  meas_fitter = CompleteMeasFitter(cal_results, state_labels, qubit_list=qubit_list, circlabel='mcal')\n"
          ]
        }
      ],
      "source": [
        "meas_fitter = CompleteMeasFitter(cal_results, state_labels, qubit_list=qubit_list, circlabel='mcal')\n",
        "print(meas_fitter.cal_matrix)"
      ]
    },
    {
      "cell_type": "code",
      "execution_count": null,
      "metadata": {
        "tags": [],
        "id": "JswA5kYOSZJy",
        "outputId": "e3f0846b-c9a1-4531-d475-28981878f7be"
      },
      "outputs": [
        {
          "data": {
            "image/png": "[encoded data removed]",
            "text/plain": [
              "<Figure size 640x480 with 2 Axes>"
            ]
          },
          "metadata": {},
          "output_type": "display_data"
        }
      ],
      "source": [
        "import matplotlib.pyplot as plt\n",
        "import numpy as np\n",
        "\n",
        "# Assuming you have computed the calibration matrix using CompleteMeasFitter\n",
        "calibration_matrix = meas_fitter.cal_matrix\n",
        "# Create a figure and axes for the plot\n",
        "fig, ax = plt.subplots()\n",
        "\n",
        "# Create a heatmap plot of the calibration matrix\n",
        "im = ax.imshow(calibration_matrix, cmap='binary')\n",
        "\n",
        "# Add colorbar\n",
        "cbar = ax.figure.colorbar(im, ax=ax)\n",
        "\n",
        "# Set axis labels\n",
        "ax.set_xlabel('Prepared State')\n",
        "ax.set_ylabel('Measured State')\n",
        "\n",
        "# Set ticks and tick labels\n",
        "ax.set_xticks(np.arange(calibration_matrix.shape[1]))\n",
        "ax.set_yticks(np.arange(calibration_matrix.shape[0]))\n",
        "ax.set_xticklabels([\"0000\",\"0001\",\"0010\",\"0011\", \"0100\", \"0110\", \"0101\", \"0111\",\"1000\",\"1001\",\"1010\",\"1011\",\"1100\",\"1101\",\"1110\",\"1111\"])\n",
        "ax.set_yticklabels([\"0000\",\"0001\",\"0010\",\"0011\", \"0100\", \"0110\", \"0101\", \"0111\",\"1000\",\"1001\",\"1010\",\"1011\",\"1100\",\"1101\",\"1110\",\"1111\"])\n",
        "\n",
        "# Rotate and align the tick labels\n",
        "plt.setp(ax.get_xticklabels(), rotation=45, ha=\"right\",\n",
        "         rotation_mode=\"anchor\")\n",
        "\n",
        "# Set title\n",
        "ax.set_title(\"Calibration Matrix\")\n",
        "\n",
        "# Show the plot\n",
        "plt.show()\n"
      ]
    },
    {
      "cell_type": "code",
      "execution_count": null,
      "metadata": {
        "tags": [],
        "id": "2YVDN8GFSZJz",
        "outputId": "8f311f5b-983e-4cf1-f510-c0538d450e35"
      },
      "outputs": [
        {
          "name": "stdout",
          "output_type": "stream",
          "text": [
            "Average Measurement Fidelity: 0.900438\n"
          ]
        }
      ],
      "source": [
        "# What is the measurement fidelity?\n",
        "print(\"Average Measurement Fidelity: %f\" % meas_fitter.readout_fidelity())"
      ]
    },
    {
      "cell_type": "markdown",
      "metadata": {
        "id": "F_YPB3VySZJ0"
      },
      "source": [
        "Applying now the Meas Fitter filter"
      ]
    },
    {
      "cell_type": "code",
      "execution_count": null,
      "metadata": {
        "tags": [],
        "id": "PDP4zdQdSZJ0"
      },
      "outputs": [],
      "source": [
        "meas_filter = meas_fitter.filter"
      ]
    },
    {
      "cell_type": "code",
      "execution_count": null,
      "metadata": {
        "tags": [],
        "id": "nQbaZndiSZJ1",
        "outputId": "ab60b69b-4883-4510-eba4-ffa20a750d7a"
      },
      "outputs": [
        {
          "name": "stdout",
          "output_type": "stream",
          "text": [
            "[ 434.94332422  493.13487019  496.29585133  567.52526071  685.65532966\n",
            "  671.33177969  645.90320747 1058.18130455  482.0441585   513.32087616\n",
            "  442.78980263  589.7548582   652.35026598  682.95650914  694.59962648\n",
            "  889.21297509]\n",
            "[505, 539, 538, 600, 709, 682, 671, 978, 507, 512, 449, 561, 652, 641, 656, 800]\n"
          ]
        }
      ],
      "source": [
        "boh = []\n",
        "total_shots = 10000\n",
        "for state, probability in prova.items():\n",
        "    count = int(round(probability * total_shots))\n",
        "    boh.append(count)\n",
        "\n",
        "mitigated_results = meas_filter.apply(boh)\n",
        "print(mitigated_results)\n",
        "print(boh)"
      ]
    },
    {
      "cell_type": "code",
      "execution_count": null,
      "metadata": {
        "tags": [],
        "id": "3ZGb4w6cSZJ2",
        "outputId": "9379cc69-0b93-4090-ccd0-8126d520a18e"
      },
      "outputs": [
        {
          "data": {
            "text/plain": [
              "<matplotlib.legend.Legend at 0x7fb65d1c1090>"
            ]
          },
          "execution_count": 31,
          "metadata": {},
          "output_type": "execute_result"
        },
        {
          "data": {
            "image/png": "[encoded data removed]",
            "text/plain": [
              "<Figure size 1600x900 with 1 Axes>"
            ]
          },
          "metadata": {},
          "output_type": "display_data"
        }
      ],
      "source": [
        "import matplotlib.pyplot as plt\n",
        "\n",
        "width = 0.4\n",
        "x = np.arange(1,17,1)\n",
        "\n",
        "fig = plt.figure(figsize = (16,9))\n",
        "# We can set the number of bins with the *bins* keyword argument.\n",
        "plt.bar(x - width/2,height = boh, label = \"Raw results\")\n",
        "plt.bar(x + width/2,height = mitigated_results, label = \"Mitigated results\")\n",
        "plt.legend()\n"
      ]
    },
    {
      "cell_type": "code",
      "execution_count": null,
      "metadata": {
        "id": "owar2kWkSZJ2"
      },
      "outputs": [],
      "source": []
    }
  ],
  "metadata": {
    "colab": {
      "provenance": []
    },
    "kernelspec": {
      "display_name": "Python 3 (ipykernel)",
      "language": "python",
      "name": "python3"
    },
    "language_info": {
      "codemirror_mode": {
        "name": "ipython",
        "version": 3
      },
      "file_extension": ".py",
      "mimetype": "text/x-python",
      "name": "python",
      "nbconvert_exporter": "python",
      "pygments_lexer": "ipython3",
      "version": "3.10.8"
    }
  },
  "nbformat": 4,
  "nbformat_minor": 0
}